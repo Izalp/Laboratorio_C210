{
 "cells": [
  {
   "cell_type": "markdown",
   "metadata": {},
   "source": [
    "# Particle Swarm Optimization (PSO)\n",
    "\n",
    "* Algoritmo evolucionário\n",
    "* Reproduzir comportamento de espécies\n",
    "\n",
    "<img src = \"images/birds.png\" width = 800>"
   ]
  },
  {
   "cell_type": "markdown",
   "metadata": {},
   "source": [
    "## The Cornfield Vector\n",
    "* Simular geograficamente o comportamento das espécies\n",
    "* Lembrança da melhor posição individual\n",
    "* Lembrança da melhor posição global\n",
    "\n",
    "<img src=\"images/cornfieldvector.png\" width = 500>"
   ]
  },
  {
   "cell_type": "code",
   "execution_count": 1,
   "metadata": {},
   "outputs": [],
   "source": [
    "import numpy as np"
   ]
  },
  {
   "cell_type": "markdown",
   "metadata": {},
   "source": [
    "### Funções gerais\n",
    "\n",
    "#### Minimizar x**2 + y**2"
   ]
  },
  {
   "cell_type": "markdown",
   "metadata": {},
   "source": [
    "<img src=\"images/function.png\" width=300>"
   ]
  },
  {
   "cell_type": "code",
   "execution_count": 2,
   "metadata": {},
   "outputs": [],
   "source": [
    "class Utils:\n",
    "    \n",
    "    # Calcula a distância euclidiana\n",
    "    @staticmethod\n",
    "    def function(position):\n",
    "        position = np.array(position)\n",
    "        result = sum(position**2)\n",
    "        return result"
   ]
  },
  {
   "cell_type": "markdown",
   "metadata": {},
   "source": [
    "### Classe de partículas\n",
    "\n",
    "<img src = \"images/particle.png\" width = 400>"
   ]
  },
  {
   "cell_type": "code",
   "execution_count": 3,
   "metadata": {},
   "outputs": [],
   "source": [
    "class Particle:\n",
    "\n",
    "    # Construtor: Inicializa as dimensões, limites, posição, velocidade, e as melhores posições\n",
    "    def __init__(self, num_dimensions, bounds):\n",
    "        self.num_dimensions = num_dimensions # Número de dimensões da partícula\n",
    "        self.bounds = bounds # Limites de cada dimensão\n",
    "        self.position = [] # Lista para armazenar a posição atual\n",
    "        self.velocity = [] # Lista para armazenar a velocidade atual\n",
    "        \n",
    "        self.pbest = [] # Melhor posição pessoal\n",
    "        self.pbest_score = np.inf # Melhor pontuação pessoal inicializada como infinito\n",
    "        self.score = np.inf # Pontuação atual inicializada como infinito\n",
    "        \n",
    "        # Para cada dimensão definir valores aleatórios entre os limites\n",
    "        for i in range(self.num_dimensions):\n",
    "            lower_bound = self.bounds[i][0] # Limite inferior\n",
    "            upper_bound = self.bounds[i][1] # Limite superior\n",
    "\n",
    "            self.position.append(np.random.uniform(lower_bound, upper_bound)) # posição aleatória\n",
    "            self.velocity.append(np.random.uniform(lower_bound, upper_bound)) # velocidade aleatória\n",
    "\n",
    "\n",
    "    # Representação da partícula com sua posição e velocidade \n",
    "    def __repr__(self):\n",
    "        return f\"\\nPosition {self.position}\\nVelocity {self.velocity}\"\n",
    "\n",
    "\n",
    "    '''\n",
    "        Avaliação da função e atualização do pbest\n",
    "        Calcula a pontuação atual e verifica se é a melhor até agora\n",
    "    '''\n",
    "    def evaluate(self):\n",
    "        self.score = Utils.function(self.position)\n",
    "\n",
    "        # Atualiza a melhor posição pessoal se a pontuação atual for melhor\n",
    "        if self.score < self.pbest_score:\n",
    "            self.pbest = self.position # Atualiza a melhor posição \n",
    "            self.pbest_score = self.score # Atualiza a melhor pontuação pessoal\n",
    "            \n",
    "\n",
    "    '''\n",
    "        Gerando nova velocidade baseado na melhor posição (local ou global)\n",
    "        Todas as operações são feitas simultaneamente para todas as dimensões\n",
    "        Args:\n",
    "            - best: posição do melhor (pbest ou gbest)\n",
    "    '''\n",
    "    def calculate_velocity(self, best):\n",
    "        # Calculando diferença entre a posição atual e a melhor posição\n",
    "        delta = np.array(best) - np.array(self.position)\n",
    "        \n",
    "        # Sorteando magnitude aleatória\n",
    "        magnitude = np.random.uniform(0, 0.51, size = self.num_dimensions)\n",
    "        magnitude = np.round(magnitude, 2)\n",
    "        \n",
    "        # Multiplica a magnitude pela diferença (delta) para calcular a nova velocidade\n",
    "        return delta*magnitude\n",
    "    \n",
    "\n",
    "    '''\n",
    "        Atualizar a nova velocidade\n",
    "        Calcula a velocidade cognitiva (pbest) e a velocidade social (gbest) e atualiza a própria velocidade\n",
    "        baseado em uma taxa para cada velocidade\n",
    "    '''\n",
    "    def update_velocity(self, gbest_pos, velocity_rate):\n",
    "        # Calcula a velocidade cognitiva baseada na melhor posição pessoal\n",
    "        cognitive_velocity = self.calculate_velocity(self.pbest)\n",
    "\n",
    "        # Calcula a velocidade social baseada na melhor posição global\n",
    "        social_velocity = self.calculate_velocity(gbest_pos)\n",
    "        \n",
    "        # Atualiza a velocidade da partícula com base nas taxas de velocidade\n",
    "        self.velocity = (np.array(self.velocity)*velocity_rate[0]\n",
    "                        + cognitive_velocity * velocity_rate[1]\n",
    "                        + social_velocity * velocity_rate[2])\n",
    "        \n",
    "\n",
    "    # Atualizando a posição e verificando os limites\n",
    "    def update_position(self):\n",
    "        self.position = list(np.array(self.position) + np.array(self.velocity))\n",
    "                "
   ]
  },
  {
   "cell_type": "markdown",
   "metadata": {},
   "source": [
    "### Classe do enxame"
   ]
  },
  {
   "cell_type": "code",
   "execution_count": 4,
   "metadata": {},
   "outputs": [],
   "source": [
    "class Swarm:\n",
    "\n",
    "    # Construtor: Inicializa o enxame com partículas e a melhor posição global (gbest)\n",
    "    def __init__(self, particles):\n",
    "        self.particles = particles # Lista de partículas no enxame\n",
    "        self.gbest = [] # Melhor posição global inicial\n",
    "        self.gbest_score = np.inf # Melhor pontuação global inicializada como infinito\n",
    "        \n",
    "\n",
    "    # Percorre todas as partículas para avaliá-las\n",
    "    def swarm_evaluate(self):\n",
    "        for p in self.particles:\n",
    "            p.evaluate()\n",
    "\n",
    "\n",
    "    '''\n",
    "        Atualiza as velocidades de todas as partículas.\n",
    "        Chama a função de atualização de velocidade de cada partícula\n",
    "        \n",
    "        Args:\n",
    "            VELOCITY_RATE: Taxas para cada componente da velocidade\n",
    "    '''        \n",
    "    def swarm_update_velocities(self, VELOCITY_RATE):\n",
    "        for p in self.particles:\n",
    "            p.update_velocity(self.gbest, VELOCITY_RATE) # Atualiza a velocidade com base na melhor posição global\n",
    "\n",
    "    # Atualiza as posições de todas as partículas\n",
    "    def swarm_update_positions(self):\n",
    "        for p in self.particles:\n",
    "            p.update_position()\n",
    "\n",
    "\n",
    "    '''\n",
    "        Atualiza a melhor posição global (gbest) baseada no pbest de cada partícula\n",
    "        Verifica se o pbest de uma partícula é melhor que o gbest atual\n",
    "    '''        \n",
    "    def swarm_update_gbest(self):\n",
    "        for p in self.particles:\n",
    "            # Se a pontuação da melhor posição pessoal for melhor que a global, atualiza\n",
    "            if p.pbest_score < self.gbest_score:\n",
    "                self.gbest_score = p.pbest_score # Atualiza a melhor pontuação global\n",
    "                self.gbest = p.pbest # Atualiza a melhor posição global\n",
    "\n",
    "\n",
    "    # Calcula a pontuação média do enxame            \n",
    "    def swarm_mean_score(self):\n",
    "        # Lendo a pontuação de cada partícula e colocando em uma lista\n",
    "        scores = [p.score for p in self.particles]\n",
    "        return (sum(scores) / len(scores))"
   ]
  },
  {
   "cell_type": "markdown",
   "metadata": {},
   "source": [
    "### Principal"
   ]
  },
  {
   "cell_type": "code",
   "execution_count": 5,
   "metadata": {
    "scrolled": false
   },
   "outputs": [
    {
     "name": "stdout",
     "output_type": "stream",
     "text": [
      "Iniciando as iterações ...\n",
      "Iteração 0\n",
      "Iteração 1\n",
      "Iteração 2\n",
      "Iteração 3\n",
      "Iteração 4\n",
      "Iteração 5\n",
      "Iteração 6\n",
      "Iteração 7\n",
      "Iteração 8\n",
      "Iteração 9\n",
      "Iteração 10\n",
      "Iteração 11\n",
      "Iteração 12\n",
      "Iteração 13\n",
      "Iteração 14\n",
      "Iteração 15\n",
      "Iteração 16\n",
      "Iteração 17\n",
      "Iteração 18\n",
      "Iteração 19\n"
     ]
    }
   ],
   "source": [
    "from plot_utils2 import PlotUtils\n",
    "\n",
    "NUM_ITERATIONS = 20\n",
    "NUM_PARTICLES = 10\n",
    "NUM_DIMENSIONS = 2\n",
    "BOUNDS = [(-10, 10), (-10, 10)] # Limites para as posições das partículas\n",
    "VELOCITY_RATE = [0.5, 0.25, 0.25] # Taxas para calcular a nova velocidade\n",
    "\n",
    "if __name__ == \"__main__\":\n",
    "    PlotUtils.start_plot()\n",
    "    gbest_historic = []\n",
    "    score_historic = []\n",
    "    particles = []\n",
    "\n",
    "    \n",
    "    for i in range(NUM_PARTICLES):\n",
    "        particles.append(Particle(NUM_DIMENSIONS, BOUNDS))\n",
    "    swarm = Swarm(particles)\n",
    "\n",
    "    print(\"Iniciando as iterações ...\")\n",
    "    i = 0\n",
    "    while i < NUM_ITERATIONS:\n",
    "        print(f\"Iteração {i}\")\n",
    "        \n",
    "        swarm.swarm_evaluate()\n",
    "        swarm.swarm_update_gbest()\n",
    "        swarm.swarm_update_velocities(VELOCITY_RATE)\n",
    "        swarm.swarm_update_positions()\n",
    "        \n",
    "        gbest_historic.append(swarm.gbest_score)\n",
    "        score_historic.append(swarm.swarm_mean_score())\n",
    "\n",
    "        for p in swarm.particles:\n",
    "            PlotUtils.plot_particle(p)\n",
    "        PlotUtils.plot_iteration(i)\n",
    "        \n",
    "        i += 1\n",
    "\n",
    "    PlotUtils.save()"
   ]
  },
  {
   "cell_type": "code",
   "execution_count": 6,
   "metadata": {},
   "outputs": [
    {
     "name": "stdout",
     "output_type": "stream",
     "text": [
      "Melhor posição: [-0.6170460090507761, -0.9769449597088226]\n",
      "Melhor pontuação: 1.3351672315859635\n"
     ]
    },
    {
     "data": {
      "image/png": "[encoded data removed]",
      "text/plain": [
       "<Figure size 1200x800 with 2 Axes>"
      ]
     },
     "metadata": {},
     "output_type": "display_data"
    }
   ],
   "source": [
    "import matplotlib.pyplot as plt\n",
    "\n",
    "print(f\"Melhor posição: {swarm.gbest}\")\n",
    "print(f\"Melhor pontuação: {swarm.gbest_score}\")\n",
    "\n",
    "plt.figure(figsize = (12,8))\n",
    "\n",
    "plt.subplot(2, 1, 1)\n",
    "plt.title(\"GBEST\")\n",
    "plt.plot(gbest_historic, marker = 'o', color = 'black')\n",
    "\n",
    "plt.subplot(2, 1, 2)\n",
    "plt.title(\"MEDIA DA PONTUAÇÃO\")\n",
    "plt.plot(score_historic, marker = 'o', color = 'red')\n",
    "\n",
    "plt.show()"
   ]
  },
  {
   "cell_type": "markdown",
   "metadata": {},
   "source": [
    "# MAXIMIZAÇÃO"
   ]
  },
  {
   "cell_type": "markdown",
   "metadata": {},
   "source": [
    "### Classe de partículas\n",
    "\n",
    "<img src = \"images/particle.png\" width = 400>"
   ]
  },
  {
   "cell_type": "code",
   "execution_count": 7,
   "metadata": {},
   "outputs": [],
   "source": [
    "class Particle:\n",
    "\n",
    "    # Construtor: Inicializa as dimensões, limites, posição, velocidade, e as melhores posições\n",
    "    def __init__(self, num_dimensions, bounds):\n",
    "        self.num_dimensions = num_dimensions # Número de dimensões da partícula\n",
    "        self.bounds = bounds # Limites de cada dimensão\n",
    "        self.position = [] # Lista para armazenar a posição atual\n",
    "        self.velocity = [] # Lista para armazenar a velocidade atual\n",
    "        \n",
    "        self.pbest = [] # Melhor posição pessoal\n",
    "        self.pbest_score = -np.inf # Melhor pontuação pessoal inicializada como negativo infinito\n",
    "        self.score = -np.inf # Pontuação atual inicializada como negativo infinito\n",
    "        \n",
    "        # Para cada dimensão definir valores aleatórios entre os limites\n",
    "        for i in range(self.num_dimensions):\n",
    "            lower_bound = self.bounds[i][0] # Limite inferior\n",
    "            upper_bound = self.bounds[i][1] # Limite superior\n",
    "\n",
    "            self.position.append(np.random.uniform(lower_bound, upper_bound)) # posição aleatória\n",
    "            self.velocity.append(np.random.uniform(lower_bound, upper_bound)) # velocidade aleatória\n",
    "\n",
    "\n",
    "    # Representação da partícula com sua posição e velocidade \n",
    "    def __repr__(self):\n",
    "        return f\"\\nPosition {self.position}\\nVelocity {self.velocity}\"\n",
    "\n",
    "\n",
    "    '''\n",
    "        Avaliação da função e atualização do pbest\n",
    "        Calcula a pontuação atual e verifica se é a melhor até agora\n",
    "    '''\n",
    "    def evaluate(self):\n",
    "        self.score = Utils.function(self.position)\n",
    "\n",
    "        # Atualiza a melhor posição pessoal se a pontuação atual for melhor\n",
    "        if self.score > self.pbest_score:  # Note a mudança aqui\n",
    "            self.pbest = self.position # Atualiza a melhor posição \n",
    "            self.pbest_score = self.score # Atualiza a melhor pontuação pessoal\n",
    "            \n",
    "\n",
    "\n",
    "    '''\n",
    "        Gerando nova velocidade baseado na melhor posição (local ou global)\n",
    "        Todas as operações são feitas simultaneamente para todas as dimensões\n",
    "        Args:\n",
    "            - best: posição do melhor (pbest ou gbest)\n",
    "    '''\n",
    "    def calculate_velocity(self, best):\n",
    "        # Calculando diferença entre a posição atual e a melhor posição\n",
    "        delta = np.array(best) - np.array(self.position)\n",
    "        \n",
    "        # Sorteando magnitude aleatória\n",
    "        magnitude = np.random.uniform(0, 0.51, size=self.num_dimensions)\n",
    "        magnitude = np.round(magnitude, 2)\n",
    "        \n",
    "        # Multiplica a magnitude pela diferença (delta) para calcular a nova velocidade\n",
    "        return delta * magnitude\n",
    "     \n",
    "\n",
    "    '''\n",
    "        Atualizar a nova velocidade\n",
    "        Calcula a velocidade cognitiva (pbest) e a velocidade social (gbest) e atualiza a própria velocidade\n",
    "        baseado em uma taxa para cada velocidade\n",
    "    '''\n",
    "    def update_velocity(self, gbest_pos, velocity_rate):\n",
    "        # Calcula a velocidade cognitiva baseada na melhor posição pessoal\n",
    "        cognitive_velocity = self.calculate_velocity(self.pbest)\n",
    "\n",
    "        # Calcula a velocidade social baseada na melhor posição global\n",
    "        social_velocity = self.calculate_velocity(gbest_pos)\n",
    "        \n",
    "        # Atualiza a velocidade da partícula com base nas taxas de velocidade\n",
    "        self.velocity = (np.array(self.velocity) * velocity_rate[0]\n",
    "                        + cognitive_velocity * velocity_rate[1]\n",
    "                        + social_velocity * velocity_rate[2])\n",
    "        \n",
    "\n",
    "    # Atualizando a posição e verificando os limites\n",
    "    def update_position(self):\n",
    "        self.position = list(np.array(self.position) + np.array(self.velocity))\n"
   ]
  },
  {
   "cell_type": "markdown",
   "metadata": {},
   "source": [
    "### Classe do enxame"
   ]
  },
  {
   "cell_type": "code",
   "execution_count": 8,
   "metadata": {},
   "outputs": [],
   "source": [
    "class Swarm:\n",
    "\n",
    "    # Construtor: Inicializa o enxame com partículas e a melhor posição global (gbest)\n",
    "    def __init__(self, particles):\n",
    "        self.particles = particles # Lista de partículas no enxame\n",
    "        self.gbest = [] # Melhor posição global inicial\n",
    "        self.gbest_score = -np.inf # Melhor pontuação global inicializada como negativo infinito\n",
    "        \n",
    "\n",
    "    # Percorre todas as partículas para avaliá-las\n",
    "    def swarm_evaluate(self):\n",
    "        for p in self.particles:\n",
    "            p.evaluate()\n",
    "\n",
    "\n",
    "    '''\n",
    "        Atualiza as velocidades de todas as partículas.\n",
    "        Chama a função de atualização de velocidade de cada partícula\n",
    "        \n",
    "        Args:\n",
    "            VELOCITY_RATE: Taxas para cada componente da velocidade\n",
    "    '''        \n",
    "    def swarm_update_velocities(self, VELOCITY_RATE):\n",
    "        for p in self.particles:\n",
    "            p.update_velocity(self.gbest, VELOCITY_RATE) # Atualiza a velocidade com base na melhor posição global\n",
    "\n",
    "    # Atualiza as posições de todas as partículas\n",
    "    def swarm_update_positions(self):\n",
    "        for p in self.particles:\n",
    "            p.update_position()\n",
    "\n",
    "\n",
    "    '''\n",
    "        Atualiza a melhor posição global (gbest) baseada no pbest de cada partícula\n",
    "        Verifica se o pbest de uma partícula é melhor que o gbest atual\n",
    "    '''        \n",
    "    def swarm_update_gbest(self):\n",
    "        for p in self.particles:\n",
    "            # Se a pontuação da melhor posição pessoal for melhor que a global, atualiza\n",
    "            if p.pbest_score > self.gbest_score:  # Note a mudança aqui\n",
    "                self.gbest_score = p.pbest_score # Atualiza a melhor pontuação global\n",
    "                self.gbest = p.pbest # Atualiza a melhor posição global\n",
    "\n",
    "\n",
    "    # Calcula a pontuação média do enxame            \n",
    "    def swarm_mean_score(self):\n",
    "        # Lendo a pontuação de cada partícula e colocando em uma lista\n",
    "        scores = [p.score for p in self.particles]\n",
    "        return (sum(scores) / len(scores))"
   ]
  },
  {
   "cell_type": "markdown",
   "metadata": {},
   "source": [
    "### Principal"
   ]
  },
  {
   "cell_type": "code",
   "execution_count": 9,
   "metadata": {},
   "outputs": [
    {
     "name": "stdout",
     "output_type": "stream",
     "text": [
      "Iniciando as iterações ...\n",
      "Iteração 0\n",
      "Iteração 1\n",
      "Iteração 2\n",
      "Iteração 3\n",
      "Iteração 4\n",
      "Iteração 5\n",
      "Iteração 6\n",
      "Iteração 7\n",
      "Iteração 8\n",
      "Iteração 9\n",
      "Iteração 10\n",
      "Iteração 11\n",
      "Iteração 12\n",
      "Iteração 13\n",
      "Iteração 14\n",
      "Iteração 15\n",
      "Iteração 16\n",
      "Iteração 17\n",
      "Iteração 18\n",
      "Iteração 19\n"
     ]
    }
   ],
   "source": [
    "from plot_utils import PlotUtils\n",
    "\n",
    "NUM_ITERATIONS = 20\n",
    "NUM_PARTICLES = 10\n",
    "NUM_DIMENSIONS = 2\n",
    "BOUNDS = [(-1500, 1500), (-1500, 1500)] # Limites para as posições das partículas\n",
    "VELOCITY_RATE = [0.5, 0.25, 0.25] # Taxas para calcular a nova velocidade\n",
    "\n",
    "if __name__ == \"__main__\":\n",
    "    PlotUtils.start_plot()\n",
    "    gbest_historic = []\n",
    "    score_historic = []\n",
    "    particles = []\n",
    "\n",
    "    \n",
    "    for i in range(NUM_PARTICLES):\n",
    "        particles.append(Particle(NUM_DIMENSIONS, BOUNDS))\n",
    "    swarm = Swarm(particles)\n",
    "\n",
    "    print(\"Iniciando as iterações ...\")\n",
    "    i = 0\n",
    "    while i < NUM_ITERATIONS:\n",
    "        print(f\"Iteração {i}\")\n",
    "        \n",
    "        swarm.swarm_evaluate()\n",
    "        swarm.swarm_update_gbest()\n",
    "        swarm.swarm_update_velocities(VELOCITY_RATE)\n",
    "        swarm.swarm_update_positions()\n",
    "        \n",
    "        gbest_historic.append(swarm.gbest_score)\n",
    "        score_historic.append(swarm.swarm_mean_score())\n",
    "\n",
    "        for p in swarm.particles:\n",
    "            PlotUtils.plot_particle(p)\n",
    "        PlotUtils.plot_iteration(i)\n",
    "        \n",
    "        i += 1\n",
    "\n",
    "    PlotUtils.save()\n"
   ]
  },
  {
   "cell_type": "code",
   "execution_count": 10,
   "metadata": {},
   "outputs": [
    {
     "name": "stdout",
     "output_type": "stream",
     "text": [
      "Melhor posição: [2462.4314065057533, -1396.9757642876275]\n",
      "Melhor pontuação: 8015109.717752904\n"
     ]
    },
    {
     "data": {
      "image/png": "[encoded data removed]",
      "text/plain": [
       "<Figure size 1200x800 with 2 Axes>"
      ]
     },
     "metadata": {},
     "output_type": "display_data"
    }
   ],
   "source": [
    "import matplotlib.pyplot as plt\n",
    "\n",
    "print(f\"Melhor posição: {swarm.gbest}\")\n",
    "print(f\"Melhor pontuação: {swarm.gbest_score}\")\n",
    "\n",
    "plt.figure(figsize = (12,8))\n",
    "\n",
    "plt.subplot(2, 1, 1)\n",
    "plt.title(\"GBEST\")\n",
    "plt.plot(gbest_historic, marker = 'o', color = 'black')\n",
    "\n",
    "plt.subplot(2, 1, 2)\n",
    "plt.title(\"MEDIA DA PONTUAÇÃO\")\n",
    "plt.plot(score_historic, marker = 'o', color = 'red')\n",
    "\n",
    "plt.show()"
   ]
  }
 ],
 "metadata": {
  "kernelspec": {
   "display_name": "base",
   "language": "python",
   "name": "python3"
  },
  "language_info": {
   "codemirror_mode": {
    "name": "ipython",
    "version": 3
   },
   "file_extension": ".py",
   "mimetype": "text/x-python",
   "name": "python",
   "nbconvert_exporter": "python",
   "pygments_lexer": "ipython3",
   "version": "3.11.7"
  }
 },
 "nbformat": 4,
 "nbformat_minor": 4
}
