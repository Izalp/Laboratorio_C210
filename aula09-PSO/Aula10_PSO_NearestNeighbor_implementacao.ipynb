{
 "cells": [
  {
   "cell_type": "markdown",
   "metadata": {},
   "source": [
    "# Particle Swarm Optimization (PSO)\n",
    "\n",
    "* Algoritmo evolucionário\n",
    "* Reproduzir comportamento de espécies\n",
    "\n",
    "<img src = \"images/birds.png\" width = 800>"
   ]
  },
  {
   "cell_type": "markdown",
   "metadata": {},
   "source": [
    "## Nearest Neighbor Velocity Matching\n",
    "* Simular geograficamente o comportamento das espécies\n",
    "* Copiar características do vizinho mais próximo\n",
    "\n",
    "<img src=\"images/NN.png\" width = 800>"
   ]
  },
  {
   "cell_type": "code",
   "execution_count": 1,
   "metadata": {},
   "outputs": [],
   "source": [
    "import numpy as np"
   ]
  },
  {
   "cell_type": "markdown",
   "metadata": {},
   "source": [
    "### Funções gerais"
   ]
  },
  {
   "cell_type": "markdown",
   "metadata": {},
   "source": [
    "<img src=\"images/euclidean.png\" width=300>"
   ]
  },
  {
   "cell_type": "code",
   "execution_count": 2,
   "metadata": {},
   "outputs": [],
   "source": [
    "class Utils:\n",
    "    # Calcula a distância euclidiana\n",
    "    @staticmethod\n",
    "    def euclidean_distance(p1, p2):\n",
    "        position_1 = np.array(p1.position)\n",
    "        position_2 = np.array(p2.position)\n",
    "        distance = np.sqrt(sum((position_1 - position_2)**2))\n",
    "            \n",
    "        return distance"
   ]
  },
  {
   "cell_type": "markdown",
   "metadata": {},
   "source": [
    "### Classe de partículas\n",
    "\n",
    "<img src = \"images/particle.png\" width = 400>"
   ]
  },
  {
   "cell_type": "code",
   "execution_count": 3,
   "metadata": {},
   "outputs": [],
   "source": [
    "class Particle:\n",
    "\n",
    "    # Construtor: Inicializa a partícula com a quantidade de dimensões especificada e dentro dos limites dados\n",
    "    def __init__(self, num_dimensions, bounds):\n",
    "        self.num_dimensions = num_dimensions\n",
    "        self.position = [] # Posição atual da partícula\n",
    "        self.velocity = [] # Velocidade atual da partícula\n",
    "        self.new_velocity = self.velocity # Velocidade que será atualizada\n",
    "        self.closest = None # Partícula mais próxima\n",
    "        self.min_dist = np.inf # Distância mínima até a partícula mais próxima (inicialmente infinito)\n",
    "        self.max_dist = -np.inf # Valor máximo da partícula mais próxima (inicialmente negativo infinito)\n",
    "        self.bounds = bounds # Limites para cada dimensão\n",
    "\n",
    "        # Para cada dimensão, inicializar a posição e velocidade com valores aleatórios dentro dos limites dados\n",
    "        for i in range(self.num_dimensions):\n",
    "            self.position.append(np.random.uniform(self.bounds[i][0], self.bounds[i][1]))\n",
    "            self.velocity.append(np.random.uniform(self.bounds[i][0], self.bounds[i][1]))\n",
    "\n",
    "\n",
    "    # Representação da partícula    \n",
    "    def __repr__(self):\n",
    "        return f\"\\nPosition {self.position}\\nVelocity {self.velocity}\\n\"\n",
    "\n",
    "\n",
    "    #  Encontra a partícula mais próxima no enxame (swarm) e atualiza a partícula mais próxima (closest)     \n",
    "    def find_closest_min(self, swarm):\n",
    "        for particle in swarm:\n",
    "            if particle != self:  # Evitar comparar a partícula consigo mesma\n",
    "                dist = Utils.euclidean_distance(self, particle) # Calcula a distância euclidiana\n",
    "                if dist < self.min_dist:  # Se a distância for menor que a distância mínima atual\n",
    "                    self.min_dist = dist\n",
    "                    self.closest = particle  # Atualiza a partícula mais próxima\n",
    "\n",
    "    \n",
    "      #  Encontra a partícula mais próxima no enxame (swarm) e atualiza a partícula mais próxima (closest)     \n",
    "    def find_closest_max(self, swarm):\n",
    "        for particle in swarm:\n",
    "            if particle != self:  # Evitar comparar a partícula consigo mesma\n",
    "                dist = Utils.euclidean_distance(self, particle) # Calcula a distância euclidiana\n",
    "                if dist > self.max_dist:  # Se a distância for maior que a distância máxima atual\n",
    "                    self.max_dist = dist\n",
    "                    self.closest = particle  # Atualiza a partícula mais próxima\n",
    "\n",
    "\n",
    "    # Ajusta a nova velocidade baseada na velocidade da partícula mais próxima.\n",
    "    def adjust_velocity(self):\n",
    "        if self.closest:\n",
    "            self.new_velocity = self.closest.velocity  # Nova velocidade é a mesma da partícula mais próxima\n",
    "\n",
    "    \n",
    "    # Atualizar a nova velocidade\n",
    "    def update_velocity(self):\n",
    "        self.velocity = self.new_velocity\n",
    "        \n",
    "\n",
    "    # Aplica a operação 'craziness' na partícula, alterando a sua velocidade para um valor aleatório dentro dos limites\n",
    "    def apply_craziness(self):\n",
    "        craziness_velocity = []\n",
    "        for i in range(self.num_dimensions):\n",
    "            # Para cada dimensão, gera uma nova velocidade aleatória dentro dos limites da dimensão\n",
    "            craziness_velocity.append(np.random.uniform(self.bounds[i][0], self.bounds[i][1]))\n",
    "        self.velocity = craziness_velocity  # Atualiza a velocidade com os novos valores aleatórios\n",
    "        \n",
    "\n",
    "    # Atualiza a posição da partícula somando a sua velocidade à posição atual    \n",
    "    def update_position(self):\n",
    "        self.position = list(np.array(self.position) + np.array(self.velocity))\n",
    "        "
   ]
  },
  {
   "cell_type": "markdown",
   "metadata": {},
   "source": [
    "### Classe do enxame"
   ]
  },
  {
   "cell_type": "code",
   "execution_count": 4,
   "metadata": {},
   "outputs": [],
   "source": [
    "class Swarm:\n",
    "\n",
    "    # Construtor: Inicializa o enxame com uma lista de partículas\n",
    "    def __init__(self, particles):\n",
    "        self.particles = particles\n",
    "\n",
    "    \n",
    "    # Percorre todas as partículas e chama as funções para encontrar a partícula mais próxima e ajustar a nova velocidade\n",
    "    def swarm_closest_min(self):\n",
    "        for p in self.particles:\n",
    "            p.find_closest_min(self.particles) # Encontra a partícula mais próxima para cada partícula\n",
    "            p.adjust_velocity() # Ajusta a nova velocidade com base na partícula mais próxima\n",
    "\n",
    "\n",
    "     # Percorre todas as partículas e chama as funções para encontrar a partícula mais próxima e ajustar a nova velocidade\n",
    "    def swarm_closest_max(self):\n",
    "        for p in self.particles:\n",
    "            p.find_closest_max(self.particles) # Encontra a partícula mais próxima para cada partícula\n",
    "            p.adjust_velocity() # Ajusta a nova velocidade com base na partícula mais próxima\n",
    "\n",
    "\n",
    "    # Percorre todas as partículas e chama a função para atualizar a velocidade\n",
    "    def swarm_update_velocities(self):\n",
    "        for p in self.particles:\n",
    "            p.update_velocity() # Atualiza a velocidade de cada partícula com base na nova velocidade calculada\n",
    "\n",
    "\n",
    "    # Percorre todas as partículas e chama a função para aplicar \"craziness\"\n",
    "    def swarm_craziness(self, craziness_threshold):\n",
    "        for p in self.particles:\n",
    "           # Se o valor aleatório for menor que o threshold, aplica a \"craziness\"\n",
    "           if np.random.uniform(0, 1) < craziness_threshold:\n",
    "               p.apply_craziness() # Aplica a operação \"craziness\", ajustando a velocidade aleatoriamente\n",
    "\n",
    "\n",
    "    # Percorre todas as partículas e chama a função para atualizar a posição\n",
    "    def swarm_update_positions(self):\n",
    "        for p in self.particles:\n",
    "            p.update_position()\n",
    "\n",
    "    # Calcula a pontuação média do enxame com base na distância mínima de cada partícula\n",
    "    def swarm_mean_score_min(self):\n",
    "        scores = [p.min_dist for p in self.particles] # Coleta a menor distância de cada partícula e coloca em uma lista\n",
    "        return (sum(scores) / len(scores)) # Retorna a média das distâncias mínimas\n",
    "\n",
    "     # Calcula a pontuação média do enxame com base na distância máxima de cada partícula\n",
    "    def swarm_mean_score_max(self):\n",
    "        scores = [p.max_dist for p in self.particles] # Coleta a maior distância de cada partícula e coloca em uma lista\n",
    "        return (sum(scores) / len(scores)) # Retorna a média das distâncias máxima\n",
    " "
   ]
  },
  {
   "cell_type": "markdown",
   "metadata": {},
   "source": [
    "### Principal"
   ]
  },
  {
   "cell_type": "code",
   "execution_count": 5,
   "metadata": {},
   "outputs": [
    {
     "name": "stdout",
     "output_type": "stream",
     "text": [
      "Iniciando ...\n",
      "Iniciando as iterações:\n",
      "Iteração 0\n",
      "Iteração 1\n",
      "Iteração 2\n",
      "Iteração 3\n",
      "Iteração 4\n",
      "Iteração 5\n",
      "Iteração 6\n",
      "Iteração 7\n",
      "Iteração 8\n",
      "Iteração 9\n",
      "Iteração 10\n",
      "Iteração 11\n",
      "Iteração 12\n",
      "Iteração 13\n",
      "Iteração 14\n",
      "Iteração 15\n",
      "Iteração 16\n",
      "Iteração 17\n",
      "Iteração 18\n",
      "Iteração 19\n"
     ]
    }
   ],
   "source": [
    "from plot_utils2 import PlotUtils\n",
    "\n",
    "CRAZINESS_PROBABILITY = 0.02\n",
    "NUM_ITERATIONS = 20\n",
    "NUM_PARTICLES = 100\n",
    "NUM_DIMENSIONS = 2\n",
    "BOUNDS = [(-30, 30), (-30, 30)]\n",
    "\n",
    "if __name__ == \"__main__\":\n",
    "    PlotUtils.start_plot()\n",
    "    score_historic_min = []\n",
    "    score_historic_max = []\n",
    "\n",
    "    print(\"Iniciando ...\")\n",
    "\n",
    "    # Criando as partículas\n",
    "    particles = []\n",
    "    for i in range(NUM_PARTICLES):\n",
    "        particles.append(Particle(NUM_DIMENSIONS, BOUNDS))\n",
    "\n",
    "    # Criando o enxame com as partículas\n",
    "    swarm = Swarm(particles)\n",
    "\n",
    "    print(\"Iniciando as iterações:\")\n",
    "    i = 0\n",
    "    while i < NUM_ITERATIONS:\n",
    "        print(f\"Iteração {i}\")\n",
    "\n",
    "        # Atualizando os vizinhos mais próximos e ajustando velocidades\n",
    "        swarm.swarm_closest_min()\n",
    "        swarm.swarm_closest_max()\n",
    "        swarm.swarm_update_velocities()\n",
    "\n",
    "        # Aplicando \"craziness\" de acordo com a probabilidade definida\n",
    "        swarm.swarm_craziness(CRAZINESS_PROBABILITY)\n",
    "\n",
    "        # Atualizando posições e calculando a pontuação média\n",
    "        swarm.swarm_update_positions()\n",
    "\n",
    "        # Armazenando a pontuação média da iteração\n",
    "        score_historic_min.append(swarm.swarm_mean_score_min())\n",
    "        score_historic_max.append(swarm.swarm_mean_score_max())\n",
    "\n",
    "        for p in swarm.particles:\n",
    "            PlotUtils.plot_particle(p)\n",
    "        PlotUtils.plot_iteration(i)\n",
    "\n",
    "        i += 1\n",
    "\n",
    "    PlotUtils.save()\n"
   ]
  },
  {
   "cell_type": "code",
   "execution_count": 6,
   "metadata": {},
   "outputs": [
    {
     "data": {
      "image/png": "[encoded data removed]",
      "text/plain": [
       "<Figure size 1200x800 with 1 Axes>"
      ]
     },
     "metadata": {},
     "output_type": "display_data"
    },
    {
     "data": {
      "image/png": "[encoded data removed]",
      "text/plain": [
       "<Figure size 1200x800 with 1 Axes>"
      ]
     },
     "metadata": {},
     "output_type": "display_data"
    }
   ],
   "source": [
    "import matplotlib.pyplot as plt\n",
    "\n",
    "plt.figure(figsize = (12,8))\n",
    "plt.subplot(2, 1, 1)\n",
    "plt.title(\"Média da Pontuação (Minimização)\")\n",
    "plt.plot(score_historic_min, marker = 'o', color = 'blue')\n",
    "plt.show()\n",
    "\n",
    "plt.figure(figsize = (12,8))\n",
    "plt.subplot(2, 1, 2)\n",
    "plt.title(\"Média da Pontuação (Maximização)\")\n",
    "plt.plot(score_historic_max, marker = 'o', color = 'red')\n",
    "plt.show()"
   ]
  }
 ],
 "metadata": {
  "kernelspec": {
   "display_name": "base",
   "language": "python",
   "name": "python3"
  },
  "language_info": {
   "codemirror_mode": {
    "name": "ipython",
    "version": 3
   },
   "file_extension": ".py",
   "mimetype": "text/x-python",
   "name": "python",
   "nbconvert_exporter": "python",
   "pygments_lexer": "ipython3",
   "version": "3.11.7"
  }
 },
 "nbformat": 4,
 "nbformat_minor": 4
}
