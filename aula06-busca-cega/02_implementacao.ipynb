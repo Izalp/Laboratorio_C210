{
 "cells": [
  {
   "cell_type": "markdown",
   "metadata": {},
   "source": [
    "### Modelando o problema\n",
    "- Sliding Puzzle\n",
    "<img src=\"images/sliding_puzzle.gif\" width=\"250\" align=\"center\">"
   ]
  },
  {
   "cell_type": "code",
   "execution_count": 1,
   "metadata": {},
   "outputs": [],
   "source": [
    "import numpy as np\n",
    "\n",
    "class SlidingPuzzle():\n",
    "    def __init__(self, num_blocos):\n",
    "        '''\n",
    "        Construtor\n",
    "        Args:\n",
    "            - num_blocos: numero de blocos por linha e coluna, valor inteiro (Ex: 3 significa 3 linhas e 3 colunas)\n",
    "        '''\n",
    "        self.num_blocos = num_blocos\n",
    "\n",
    "    def _encontra_posicao(self, estado, elemento):\n",
    "        '''\n",
    "        Varre todo o tabuleiro (estado) e verifica em qual posição 'elemento' está\n",
    "        Args:\n",
    "            - estado: matriz contendo o estado do tabuleiro\n",
    "            - elemento: elemento a ser buscado na matriz\n",
    "        Return:\n",
    "            - Retorna a linha e coluna onde o elemento se encontra\n",
    "        '''\n",
    "        for i in range(self.num_blocos):\n",
    "            for j in range(self.num_blocos):\n",
    "                if estado[i, j] == elemento:\n",
    "                    return i, j\n",
    "        return None, None\n",
    "\n",
    "    def verifica_estados(self, atual, objetivo):\n",
    "        '''\n",
    "        Verifica se o estado atual é o objetivo da busca\n",
    "        Args:\n",
    "            - atual: matriz que descreve o estado atual\n",
    "            - objetivo: matriz que descreve o estado objetivo\n",
    "        Return:\n",
    "            - booleano dizendo se o estado atual é ou não o objetivo\n",
    "        '''\n",
    "        flag = True\n",
    "        for i in range(self.num_blocos):\n",
    "            for j in range(self.num_blocos):\n",
    "                if atual[i, j] != objetivo[i, j]:\n",
    "                    flag = False\n",
    "                    break\n",
    "\n",
    "        return flag\n",
    "\n",
    "    def expande_estados(self, atual):\n",
    "        '''\n",
    "        Dado o estado atual, realiza a expansão de estados\n",
    "        Args:\n",
    "            - atual: matriz que descreve o estado atual\n",
    "        Return:\n",
    "            - lista com os novos estados após a expansão\n",
    "        '''\n",
    "        \n",
    "        novos_estados = []\n",
    "        linha, coluna = self._encontra_posicao(atual, 0)\n",
    "\n",
    "        # Cima\n",
    "        if linha > 0:\n",
    "            novo_estado = np.copy(atual)\n",
    "            nova_linha = linha - 1\n",
    "\n",
    "            bloco_alvo = novo_estado[nova_linha, coluna]\n",
    "            novo_estado[nova_linha, coluna] = 0\n",
    "            novo_estado[linha, coluna] = bloco_alvo\n",
    "\n",
    "            novos_estados.append(novo_estado)\n",
    "\n",
    "        # Baixo\n",
    "        if linha < self.num_blocos - 1:\n",
    "            novo_estado = np.copy(atual)\n",
    "            nova_linha = linha + 1\n",
    "\n",
    "            bloco_alvo = novo_estado[nova_linha, coluna]\n",
    "            novo_estado[nova_linha, coluna] = 0\n",
    "            novo_estado[linha, coluna] = bloco_alvo\n",
    "\n",
    "            novos_estados.append(novo_estado)\n",
    "\n",
    "\n",
    "        # Esquerda\n",
    "        if coluna > 0:\n",
    "            novo_estado = np.copy(atual)\n",
    "            nova_coluna = coluna - 1\n",
    "\n",
    "            bloco_alvo = novo_estado[linha, nova_coluna]\n",
    "            novo_estado[linha, nova_coluna] = 0\n",
    "            novo_estado[linha, coluna] = bloco_alvo\n",
    "\n",
    "            novos_estados.append(novo_estado)\n",
    "\n",
    "        # Direita\n",
    "        if coluna < self.num_blocos - 1:\n",
    "            novo_estado = np.copy(atual)\n",
    "            nova_coluna = coluna + 1\n",
    "\n",
    "            bloco_alvo = novo_estado[linha, nova_coluna]\n",
    "            novo_estado[linha, nova_coluna] = 0\n",
    "            novo_estado[linha, coluna] = bloco_alvo\n",
    "\n",
    "            novos_estados.append(novo_estado)\n",
    "\n",
    "        return novos_estados\n"
   ]
  },
  {
   "cell_type": "markdown",
   "metadata": {},
   "source": [
    "### Formulando Busca"
   ]
  },
  {
   "cell_type": "markdown",
   "metadata": {},
   "source": [
    "#### Busca em largura (BrFS– Breadth-first search)\n",
    "\n",
    "Realiza a busca em nível. Imagine uma árvore de estados, nela a busca é realizada sequencialmente em cada nó do mesmo nível\n",
    "\n",
    "<img src=\"images/bfs.gif\" width=\"250\" align=\"center\">"
   ]
  },
  {
   "cell_type": "code",
   "execution_count": 2,
   "metadata": {},
   "outputs": [],
   "source": [
    "from queue import Queue\n",
    "# Classe \n",
    "class BreadthFirstSearch():\n",
    "    \n",
    "    def __init__(self, problema):\n",
    "        self.problema = problema\n",
    "        \n",
    "    def _verifica_visitado(self, estado, estados_visitados):\n",
    "        for i in estados_visitados:\n",
    "            if self.problema.verifica_estados(i, estado):\n",
    "                return True\n",
    "        return False\n",
    "        \n",
    "    def busca(self, inicio, fim):\n",
    "        fila = Queue()\n",
    "        fila.put(inicio)\n",
    "        \n",
    "        solucao_encontrada = False\n",
    "        estados_visitados = []\n",
    "        cont_estados = 0\n",
    "        \n",
    "        while not fila.empty():\n",
    "            atual = fila.get()\n",
    "            estados_visitados.append(atual)\n",
    "            \n",
    "            if self.problema.verifica_estados(atual, fim):\n",
    "                solucao_encontrada = True\n",
    "                break\n",
    "                \n",
    "            else:\n",
    "                cont_estados += 1\n",
    "                # print(f\"Visitando #{cont_estados}\")\n",
    "                novos_estados = self.problema.expande_estados(atual)\n",
    "                for i in novos_estados:\n",
    "                    if not self._verifica_visitado(i, estados_visitados):\n",
    "                        fila.put(i)\n",
    "                        \n",
    "        return solucao_encontrada, estados_visitados, cont_estados\n",
    "            \n",
    "## Construtor \n",
    "## Verificar se estado já foi visitado\n",
    "## Busca\n",
    "### Enquanto houver elementos na fila\n",
    "#### Verificar objetivo\n",
    "#### Expandir estados\n",
    "#### Expandir estados"
   ]
  },
  {
   "cell_type": "markdown",
   "metadata": {},
   "source": [
    "#### Busca em profundidade (DFS – Depth-first search)\n",
    "\n",
    "Realiza a busca por ramo. Imagine uma árvore de estados, nela a busca é realizada sequencialmente em cada ramo, e só após completá-lo, busca no ramo vizinho.\n",
    "\n",
    "<img src=\"images/dfs.gif\" width=\"250\" align=\"center\">"
   ]
  },
  {
   "cell_type": "code",
   "execution_count": 16,
   "metadata": {},
   "outputs": [],
   "source": [
    "from queue import LifoQueue\n",
    "\n",
    "class DepthFirstSearch():\n",
    "    def __init__(self, problema):\n",
    "        '''\n",
    "        Construtor\n",
    "        Args:\n",
    "            - problema: objeto do problema a ser solucionado\n",
    "        '''\n",
    "        self.problema = problema\n",
    "        \n",
    "    def _verifica_visitado(self, estado, estados_visitados):\n",
    "        '''\n",
    "        Verifica se 'estado' está na lista de estados visitados\n",
    "        Args:\n",
    "            - estado: estado qualquer do tabuleiro\n",
    "            - estados_visitados: lista com todos os estados já visitados\n",
    "        Return:\n",
    "            - booleano dizendo se o estado foi visitado ou não\n",
    "        '''\n",
    "        for i in estados_visitados:\n",
    "            if self.problema.verifica_estados(i, estado):\n",
    "                return True\n",
    "        return False\n",
    "    \n",
    "    def busca(self, inicio, fim):\n",
    "        '''\n",
    "        Realiza a busca DFS, armazenando os estados em uma PILHA\n",
    "        Args:\n",
    "            - inicio: estado inicial do problema\n",
    "            - fim: estado objetivo\n",
    "        Return:\n",
    "            - booleano se a solução foi encontrada, lista dos estados visitados, quantidade de estados visitados\n",
    "        '''\n",
    "        pilha = LifoQueue()\n",
    "        pilha.put(inicio)\n",
    "        \n",
    "        solucao_encontrada = False\n",
    "        estados_visitados = []\n",
    "        cont_estados = 0\n",
    "        \n",
    "        while not pilha.empty():\n",
    "            atual = pilha.get()\n",
    "            estados_visitados.append(atual)\n",
    "            \n",
    "            if self.problema.verifica_estados(atual, fim):\n",
    "                solucao_encontrada = True\n",
    "                break\n",
    "                \n",
    "            else:\n",
    "                cont_estados += 1\n",
    "                print(f\"Visitando #{cont_estados}\")\n",
    "                novos_estados = self.problema.expande_estados(atual)\n",
    "                for i in novos_estados:\n",
    "                    if not self._verifica_visitado(i, estados_visitados):\n",
    "                        print(i)\n",
    "                        pilha.put(i)\n",
    "                        \n",
    "        return solucao_encontrada, estados_visitados, cont_estados\n",
    "    \n",
    "## Construtor \n",
    "## Verificar se estado já foi visitado\n",
    "## Busca\n",
    "### Enquanto houver elementos na fila\n",
    "#### Verificar objetivo\n",
    "#### Expandir estados\n",
    "#### Expandir estados"
   ]
  },
  {
   "cell_type": "markdown",
   "metadata": {},
   "source": [
    "### Executando"
   ]
  },
  {
   "cell_type": "code",
   "execution_count": 17,
   "metadata": {},
   "outputs": [
    {
     "name": "stdout",
     "output_type": "stream",
     "text": [
      "Initial state: \n",
      "[[1 0 2]\n",
      " [8 4 3]\n",
      " [7 6 5]]\n",
      "***************\n",
      "Target state: \n",
      "[[1 2 3]\n",
      " [8 0 4]\n",
      " [7 6 5]]\n",
      "***************\n"
     ]
    }
   ],
   "source": [
    "# Pacote auxiliar para o cálculo do tempo\n",
    "from time import time\n",
    "\n",
    "# Criando objeto do problema\n",
    "problema = SlidingPuzzle(3)\n",
    "\n",
    "# Criando Matriz inicial e matriz alvo\n",
    "start = np.matrix([[1,0,2],[8,4,3],[7,6,5]])\n",
    "target = np.matrix([[1,2,3],[8,0,4],[7,6,5]])\n",
    "\n",
    "# Mostrando informações iniciais\n",
    "print(f\"Initial state: \\n{start}\")\n",
    "print(\"*\"*15)\n",
    "print(f\"Target state: \\n{target}\")\n",
    "print(\"*\"*15)"
   ]
  },
  {
   "cell_type": "markdown",
   "metadata": {},
   "source": [
    "#### BFS"
   ]
  },
  {
   "cell_type": "code",
   "execution_count": 18,
   "metadata": {},
   "outputs": [],
   "source": [
    "bfs = BreadthFirstSearch(problema)\n",
    "\n",
    "start_time = time()\n",
    "\n",
    "solucao_encontrada_bfs, estados_visitados_bfs, cont_estados_bfs = bfs.busca(start, target)\n",
    "\n",
    "end_time = time()"
   ]
  },
  {
   "cell_type": "markdown",
   "metadata": {},
   "source": [
    "#### DFS"
   ]
  },
  {
   "cell_type": "code",
   "execution_count": 19,
   "metadata": {},
   "outputs": [
    {
     "name": "stdout",
     "output_type": "stream",
     "text": [
      "Visitando #1\n",
      "[[1 4 2]\n",
      " [8 0 3]\n",
      " [7 6 5]]\n",
      "[[0 1 2]\n",
      " [8 4 3]\n",
      " [7 6 5]]\n",
      "[[1 2 0]\n",
      " [8 4 3]\n",
      " [7 6 5]]\n",
      "Visitando #2\n",
      "[[1 2 3]\n",
      " [8 4 0]\n",
      " [7 6 5]]\n",
      "Visitando #3\n",
      "[[1 2 3]\n",
      " [8 4 5]\n",
      " [7 6 0]]\n",
      "[[1 2 3]\n",
      " [8 0 4]\n",
      " [7 6 5]]\n"
     ]
    }
   ],
   "source": [
    "dfs = DepthFirstSearch(problema)\n",
    "\n",
    "start_time = time()\n",
    "\n",
    "solucao_encontrada_dfs, estados_visitados_dfs, cont_estados_dfs = dfs.busca(start, target)\n",
    "\n",
    "end_time = time()"
   ]
  },
  {
   "cell_type": "markdown",
   "metadata": {},
   "source": [
    "#### Resultados"
   ]
  },
  {
   "cell_type": "code",
   "execution_count": 20,
   "metadata": {},
   "outputs": [
    {
     "name": "stdout",
     "output_type": "stream",
     "text": [
      "\n",
      "Resultado da BFS:\n",
      "Solução encontrada: True\n",
      "Estados visitados: 18\n",
      "Tempo gasto: 0.0020 segundos\n",
      "\n",
      "Resultado da DFS:\n",
      "Solução encontrada: True\n",
      "Estados visitados: 3\n",
      "Tempo gasto: 0.0020 segundos\n"
     ]
    }
   ],
   "source": [
    "print(f\"\\nResultado da BFS:\")\n",
    "print(f\"Solução encontrada: {solucao_encontrada_bfs}\")\n",
    "print(f\"Estados visitados: {cont_estados_bfs}\")\n",
    "print(f\"Tempo gasto: {end_time - start_time:.4f} segundos\")\n",
    "\n",
    "print(f\"\\nResultado da DFS:\")\n",
    "print(f\"Solução encontrada: {solucao_encontrada_dfs}\")\n",
    "print(f\"Estados visitados: {cont_estados_dfs}\")\n",
    "print(f\"Tempo gasto: {end_time - start_time:.4f} segundos\")"
   ]
  },
  {
   "cell_type": "markdown",
   "metadata": {},
   "source": [
    "# Exercícios\n",
    "\n",
    "1. Alterar a matriz inicial de posições para a apresentada na imagem abaixo e avaliar a performance das duas abordagens de busca cega\n",
    "\n",
    "<img src=\"images/exercicio.png\" width=\"250\" align=\"center\">"
   ]
  },
  {
   "cell_type": "code",
   "execution_count": null,
   "metadata": {},
   "outputs": [],
   "source": [
    "problema = SlidingPuzzle(3)\n",
    "\n",
    "start = np.matrix([[1, 0, 2],[8, 4, 3],[7, 6, 5]])\n",
    "target = np.matrix([[2, 8, 3], [1, 6, 4], [7, 0, 5]])\n",
    "\n",
    "bfs = BreadthFirstSearch(problema)\n",
    "dfs = DepthFirstSearch(problema)\n",
    "\n",
    "start_time = time()\n",
    "\n",
    "solucao_encontrada_bfs, estados_visitados_bfs, cont_estados_bfs = bfs.busca(start, target)\n",
    "solucao_encontrada_dfs, estados_visitados_dfs, cont_estados_dfs = dfs.busca(start, target)\n",
    "\n",
    "end_time = time()\n",
    "\n",
    "\n",
    "# Resultados\n",
    "print(\"==== BFS ====\")\n",
    "print(f\"Solução encontrada? {bfs_solucao}\")\n",
    "print(f\"Número de estados visitados: {bfs_num_visitados}\")\n",
    "print(f\"Tempo de execução: {bfs_time:.4f} segundos\")\n",
    "\n",
    "print(\"==== DFS ====\")\n",
    "print(f\"Solução encontrada? {dfs_solucao}\")\n",
    "print(f\"Número de estados visitados: {dfs_num_visitados}\")\n",
    "print(f\"Tempo de execução: {dfs_time:.4f} segundos\")"
   ]
  },
  {
   "cell_type": "markdown",
   "metadata": {},
   "source": [
    "2. Desenhe no papel, a árvore dos seguintes grafos e diga qual o caminho BFS e DFS saindo de O e indo para X."
   ]
  },
  {
   "cell_type": "markdown",
   "metadata": {},
   "source": [
    "A) BFS:\n",
    "- Nós visitados: O, C, B, A, E, D, X\n",
    "- Solução: O --> C --> E --> X\n",
    "\n",
    "DFS:\n",
    "- Nós visitados: O, C, E, X\n",
    "- Solução: O --> C --> E --> X"
   ]
  },
  {
   "cell_type": "markdown",
   "metadata": {},
   "source": [
    "<img src=\"images/GRAFO_A.png\" width=\"250\" align=\"center\">"
   ]
  },
  {
   "cell_type": "markdown",
   "metadata": {},
   "source": [
    "B) BFS:\n",
    "- Nós visitados: O, C, B, A, E, D, X\n",
    "- Solução: O --> C --> E --> X\n",
    "\n",
    "DFS:\n",
    "- Nós visitados: O, C, E, X\n",
    "- Solução: O --> C --> E --> X"
   ]
  },
  {
   "cell_type": "markdown",
   "metadata": {},
   "source": [
    "<img src=\"images/GRAFO_B.png\" width=\"250\" align=\"center\">"
   ]
  }
 ],
 "metadata": {
  "kernelspec": {
   "display_name": "base",
   "language": "python",
   "name": "python3"
  },
  "language_info": {
   "codemirror_mode": {
    "name": "ipython",
    "version": 3
   },
   "file_extension": ".py",
   "mimetype": "text/x-python",
   "name": "python",
   "nbconvert_exporter": "python",
   "pygments_lexer": "ipython3",
   "version": "3.11.7"
  }
 },
 "nbformat": 4,
 "nbformat_minor": 4
}
