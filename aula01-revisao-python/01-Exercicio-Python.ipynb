{
 "cells": [
  {
   "cell_type": "markdown",
   "metadata": {},
   "source": [
    "### Calculadora Simples:\n",
    "Crie uma calculadora que possa realizar operações básicas como adição, subtração, multiplicação e divisão. Permita que o usuário escolha a operação desejada e forneça os números para realizar o cálculo."
   ]
  },
  {
   "cell_type": "code",
   "execution_count": 17,
   "metadata": {},
   "outputs": [
    {
     "name": "stdout",
     "output_type": "stream",
     "text": [
      "Selecione a operação:\n",
      "1 - Adição\n",
      "2 - Subtração\n",
      "3 - Multiplicação\n",
      "4 - Divisão\n",
      "\n",
      "Opção inválida. Por favor, escolha uma operação válida.\n"
     ]
    }
   ],
   "source": [
    "def calculadora():\n",
    "    print('Selecione a operação:')\n",
    "    print('1 - Adição')\n",
    "    print('2 - Subtração')\n",
    "    print('3 - Multiplicação')\n",
    "    print('4 - Divisão\\n')\n",
    "\n",
    "    operacao = input('Digite o número correspondente à operação desejada (1/2/3/4):')\n",
    "\n",
    "    if operacao in ['1', '2', '3', '4']:\n",
    "        num1 = float(input('Digite o primeiro número:'))\n",
    "        num2 = float(input('Digite o segundo número:'))\n",
    "\n",
    "        if operacao == '1':\n",
    "            resultado = num1 + num2\n",
    "            print(f'{num1} + {num2} = {resultado}')\n",
    "\n",
    "        elif operacao == '2':\n",
    "            resultado = num1 - num2\n",
    "            print(f'{num1} - {num2} = {resultado}')\n",
    "\n",
    "        elif operacao == '3':\n",
    "            resultado = num1 * num2\n",
    "            print(f'{num1} * {num2} = {resultado}')\n",
    "\n",
    "        elif operacao == '4':\n",
    "            if num2 == 0:\n",
    "                print('Erro! Divisão por zero não é permitida.')\n",
    "            else:\n",
    "                resultado = num1 / num2\n",
    "                print(f\"{num1} / {num2} = {resultado}\")\n",
    "    else:\n",
    "        print('Opção inválida. Por favor, escolha uma operação válida.')\n",
    "\n",
    "calculadora()"
   ]
  },
  {
   "cell_type": "markdown",
   "metadata": {},
   "source": [
    "### Verificador de Números Primos:\n",
    "Escreva uma função que verifica se um número fornecido pelo usuário é primo ou não.\n"
   ]
  },
  {
   "cell_type": "code",
   "execution_count": 41,
   "metadata": {},
   "outputs": [
    {
     "name": "stdout",
     "output_type": "stream",
     "text": [
      "O número 110 não é primo!\n"
     ]
    }
   ],
   "source": [
    "def primos(x):\n",
    "    if x <= 1:\n",
    "        return print(f'O número {x} não é primo!')\n",
    "\n",
    "    if x == 2 or x == 3:\n",
    "        return print(f'O número {x} é primo!')\n",
    "\n",
    "    if x % 2 == 0 or x % 3 == 0:\n",
    "        return print(f'O número {x} não é primo!')\n",
    "    \n",
    "    else:\n",
    "        return print(f'O número {x} é primo!')\n",
    "    \n",
    "num1 = float(input('Digite um número:'))\n",
    "primos(num1)\n"
   ]
  },
  {
   "cell_type": "markdown",
   "metadata": {},
   "source": [
    "### Conversor de Temperatura:\n",
    "Crie um programa que converte uma temperatura de Celsius para Fahrenheit e vice-versa, com base na escolha do usuário.\n"
   ]
  },
  {
   "cell_type": "code",
   "execution_count": 57,
   "metadata": {},
   "outputs": [
    {
     "name": "stdout",
     "output_type": "stream",
     "text": [
      "Selecione a conversão de temperatura que deseja realizar:\n",
      "1 - Celsius para Fahrenheit\n",
      "2 - Fahrenheit para Celsius\n",
      "\n",
      "Temperatura: 98.6 °F\n"
     ]
    }
   ],
   "source": [
    "def celsius_to_fahrenheit(C):\n",
    "    F = (9/5) * C + 32\n",
    "    print(f'Temperatura: {round(F,2)} °F')\n",
    "\n",
    "def fahrenheit_to_celsius(F):\n",
    "    C = (5/9) * (F - 32)\n",
    "    print(f'Temperatura: {round(C,2)} °C')\n",
    "\n",
    "def conversor():\n",
    "    print('Selecione a conversão de temperatura que deseja realizar:')\n",
    "    print('1 - Celsius para Fahrenheit')\n",
    "    print('2 - Fahrenheit para Celsius\\n')\n",
    "    \n",
    "    opcao = int(input('Digite o número correspondente à opção desejada:'))\n",
    "    \n",
    "    if opcao == 1:\n",
    "        temp = float(input('Digite o valor da temperatura em Celsius:'))\n",
    "        celsius_to_fahrenheit(temp)\n",
    "    elif opcao == 2:\n",
    "        temp = float(input('Digite o valor da temperatura em Fahrenheit:'))\n",
    "        fahrenheit_to_celsius(temp)\n",
    "    else:\n",
    "        print('Opção inválida. Por favor, escolha 1 ou 2.')\n",
    "\n",
    "conversor()\n"
   ]
  },
  {
   "cell_type": "markdown",
   "metadata": {},
   "source": [
    "### Contador de Palavras:\n",
    "Crie uma função que conta o número de palavras em uma frase fornecida pelo usuário.\n"
   ]
  },
  {
   "cell_type": "code",
   "execution_count": 59,
   "metadata": {},
   "outputs": [
    {
     "name": "stdout",
     "output_type": "stream",
     "text": [
      "A frase contém 4 palavras.\n"
     ]
    }
   ],
   "source": [
    "def contador_palavras(frase):\n",
    "    palavras = frase.split()\n",
    "    quantidade = len(palavras)\n",
    "    return quantidade\n",
    "\n",
    "frase = input(\"Digite uma frase: \")\n",
    "\n",
    "resultado = contador_palavras(frase)\n",
    "\n",
    "print(f\"A frase contém {resultado} palavras.\")"
   ]
  },
  {
   "cell_type": "markdown",
   "metadata": {},
   "source": [
    "### Tabuada:\n",
    "Escreva um programa que exibe a tabuada de um número fornecido pelo usuário."
   ]
  },
  {
   "cell_type": "code",
   "execution_count": 64,
   "metadata": {},
   "outputs": [
    {
     "name": "stdout",
     "output_type": "stream",
     "text": [
      "Tabuada do número 9:\n",
      "9 x 1 = 9\n",
      "9 x 2 = 18\n",
      "9 x 3 = 27\n",
      "9 x 4 = 36\n",
      "9 x 5 = 45\n",
      "9 x 6 = 54\n",
      "9 x 7 = 63\n",
      "9 x 8 = 72\n",
      "9 x 9 = 81\n",
      "9 x 10 = 90\n"
     ]
    }
   ],
   "source": [
    "def tabuada(x):\n",
    "    for i in range(1, 11):\n",
    "        resultado = x * i\n",
    "        \n",
    "        print(f\"{x} x {i} = {resultado}\")\n",
    "\n",
    "num1 = int(input('Digite um número: '))\n",
    "print(f\"Tabuada do número {num1}:\")\n",
    "tabuada(num1)"
   ]
  },
  {
   "cell_type": "markdown",
   "metadata": {},
   "source": [
    "### Renomeador de Títulos:\n",
    "Escreva um programa que recebe uma array com nomes de colunas em uma tabela, arrume os nomes das colunas para que todas as palavras tenham a primeira letra maiúscula e substitua espaços por underlines(_).\n"
   ]
  },
  {
   "cell_type": "markdown",
   "metadata": {},
   "source": [
    "column_names = [\"account balance\", \"LoaN duration\", \"CREDIT History\", \n",
    "    \"loan_Purpose\", \"LOAN_Amount\", \"Savings\", \"Years_Employed\", \n",
    "    \"Installment_Rate\", \"Gender and Status\", \"OtheR Debtors_Guarantors\",\n",
    "    \"Year_of_Residence\", \"ProperTy\", \"AGe\", \"InstaLlment Plans\", \"HouSing\", \"ExistiNg_credits\", \"Job\", \"Dependents\", \n",
    "    \"Telephone\", \"Foreign\", \n",
    "    \"Credit_rating\"]"
   ]
  },
  {
   "cell_type": "code",
   "execution_count": 66,
   "metadata": {},
   "outputs": [
    {
     "name": "stdout",
     "output_type": "stream",
     "text": [
      "Nomes das colunas formatados:\n",
      "Account_Balance\n",
      "Loan_Duration\n",
      "Credit_History\n",
      "Loan_Purpose\n",
      "Loan_Amount\n",
      "Savings\n",
      "Years_Employed\n",
      "Installment_Rate\n",
      "Gender_And_Status\n",
      "Other_Debtors_Guarantors\n",
      "Year_Of_Residence\n",
      "Property\n",
      "Age\n",
      "Installment_Plans\n",
      "Housing\n",
      "Existing_Credits\n",
      "Job\n",
      "Dependents\n",
      "Telephone\n",
      "Foreign\n",
      "Credit_Rating\n"
     ]
    }
   ],
   "source": [
    "def renomeador_titulos(colunas):\n",
    "    colunas_renomeadas = []\n",
    "    for coluna in colunas:\n",
    "        nova_coluna = coluna.title().replace(' ', '_')\n",
    "        colunas_renomeadas.append(nova_coluna)\n",
    "    return colunas_renomeadas\n",
    "\n",
    "column_names = [\n",
    "    \"account balance\",\n",
    "    \"LoaN duration\", \n",
    "    \"CREDIT History\", \n",
    "    \"loan_Purpose\",\n",
    "    \"LOAN_Amount\", \n",
    "    \"Savings\",\n",
    "    \"Years_Employed\", \n",
    "    \"Installment_Rate\", \n",
    "    \"Gender and Status\",\n",
    "    \"OtheR Debtors_Guarantors\",\n",
    "    \"Year_of_Residence\", \n",
    "    \"ProperTy\",\n",
    "    \"AGe\", \n",
    "    \"InstaLlment Plans\", \n",
    "    \"HouSing\",\n",
    "    \"ExistiNg_credits\", \n",
    "    \"Job\", \n",
    "    \"Dependents\", \n",
    "    \"Telephone\", \n",
    "    \"Foreign\", \n",
    "    \"Credit_rating\"\n",
    "]\n",
    "\n",
    "colunas_renomeadas = renomeador_titulos(column_names)\n",
    "\n",
    "print(\"Nomes das colunas formatados:\")\n",
    "for coluna in colunas_renomeadas:\n",
    "    print(coluna)\n"
   ]
  }
 ],
 "metadata": {
  "kernelspec": {
   "display_name": "Python 3",
   "language": "python",
   "name": "python3"
  },
  "language_info": {
   "codemirror_mode": {
    "name": "ipython",
    "version": 3
   },
   "file_extension": ".py",
   "mimetype": "text/x-python",
   "name": "python",
   "nbconvert_exporter": "python",
   "pygments_lexer": "ipython3",
   "version": "3.11.4"
  }
 },
 "nbformat": 4,
 "nbformat_minor": 2
}
